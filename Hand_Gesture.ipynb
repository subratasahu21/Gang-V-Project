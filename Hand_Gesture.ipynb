{
 "cells": [
  {
   "cell_type": "code",
   "execution_count": null,
   "id": "91ede637-3865-485b-b074-d09ddc210bd1",
   "metadata": {},
   "outputs": [],
   "source": [
    "import cv2\n",
    "import numpy as np\n",
    "import mediapipe as mp\n",
    "import tensorflow as tf\n",
    "from tensorflow.keras.models import load_model\n",
    "from cvzone.HandTrackingModule import HandDetector\n",
    "\n",
    "mpHands=mp.solutions.hands                                                   # initialize mediapipe \n",
    "hands=mpHands.Hands(max_num_hands=1, min_detection_confidence=0.7)\n",
    "mpDraw=mp.solutions.drawing_utils\n",
    "model=load_model('mp_hand_gesture')                                          # Load the gesture recognizer model\n",
    "f=open('gesture.names', 'r')                                                   # Load class names\n",
    "classNames=f.read().split('\\n')\n",
    "f.close()\n",
    "print(classNames)\n",
    "cap=cv2.VideoCapture(0)                                                       # Initialize the webcam\n",
    "detector=HandDetector()\n",
    "while True:\n",
    "    status, photo=cap.read()\n",
    "    x, y, c=photo.shape\n",
    "    photo=cv2.flip(photo, 1)\n",
    "    photorgb=cv2.cvtColor(photo, cv2.COLOR_BGR2RGB)\n",
    "    result=hands.process(photorgb)                                              # Get hand landmark prediction\n",
    "    print(result)\n",
    "    className=''\n",
    "    myhand=detector.findHands(photo)                                            # Hand Detection\n",
    "    if myhand and myhand[0]:\n",
    "        mylmlist=myhand[0][0]\n",
    "        myfingerup=detector.fingersUp(mylmlist)\n",
    "    if result.multi_hand_landmarks:                                             # post process the result\n",
    "        landmarks=[]\n",
    "        for handslms in result.multi_hand_landmarks:\n",
    "            for lm in handslms.landmark:\n",
    "                #print(id, lm)\n",
    "                lmx=int(lm.x * x)\n",
    "                lmy=int(lm.y * y)\n",
    "                landmarks.append([lmx, lmy])\n",
    "            mpDraw.draw_landmarks(photo, handslms, mpHands.HAND_CONNECTIONS)    # Drawing landmarks on frames\n",
    "            prediction = model.predict([landmarks])                             # Predict gesture\n",
    "            #print(prediction)\n",
    "            classID=np.argmax(prediction)\n",
    "            className=classNames[classID]\n",
    "    cv2.putText(photo, className, (10, 50), cv2.FONT_HERSHEY_SIMPLEX, 1, (57,255,20), 2, cv2.LINE_AA)\n",
    "    cv2.imshow(\"Hand Gesture Module\", photo)                                            # Show the final output\n",
    "    if cv2.waitKey(1)==ord('q'):\n",
    "        break\n",
    "cap.release()\n",
    "cv2.destroyAllWindows()"
   ]
  },
  {
   "cell_type": "code",
   "execution_count": null,
   "id": "aab8f7bc-9e79-4fc3-9a29-9c803aad5af2",
   "metadata": {},
   "outputs": [],
   "source": []
  }
 ],
 "metadata": {
  "kernelspec": {
   "display_name": "Python 3 (ipykernel)",
   "language": "python",
   "name": "python3"
  },
  "language_info": {
   "codemirror_mode": {
    "name": "ipython",
    "version": 3
   },
   "file_extension": ".py",
   "mimetype": "text/x-python",
   "name": "python",
   "nbconvert_exporter": "python",
   "pygments_lexer": "ipython3",
   "version": "3.11.6"
  }
 },
 "nbformat": 4,
 "nbformat_minor": 5
}
